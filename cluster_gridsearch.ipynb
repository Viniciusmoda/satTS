{
 "cells": [
  {
   "cell_type": "code",
   "execution_count": 7,
   "metadata": {},
   "outputs": [],
   "source": [
    "import tsclust\n",
    "import pandas as pd"
   ]
  },
  {
   "cell_type": "code",
   "execution_count": 8,
   "metadata": {},
   "outputs": [],
   "source": [
    "cropdf = pd.read_csv('/Users/jameysmith/Documents/sentinel2_tanz/aoiTS/lc_ndvi_ts/crop_ndvi_interp.csv')\n",
    "cropdf = cropdf.rename(columns={\"array_ind\": \"array_index\"})"
   ]
  },
  {
   "cell_type": "code",
   "execution_count": 13,
   "metadata": {},
   "outputs": [],
   "source": [
    "# Number of unique pixels (time-series) is 83,403. This is the max 'n_samples' value\n",
    "pg = {\n",
    "    'time_seriesdf': [cropdf],\n",
    "    'n_samples': [10],\n",
    "    'cluster_alg': ['GAKM', 'TSKM'],\n",
    "    'n_clusters': list(range(2, 8)),\n",
    "    'smooth': [True],\n",
    "    'ts_var': ['ndvi'],\n",
    "    'window': [7],\n",
    "    'poly': [3],\n",
    "    'cluster_metric': ['dtw', 'softdtw'],\n",
    "    'score': [True]\n",
    "}"
   ]
  },
  {
   "cell_type": "code",
   "execution_count": 14,
   "metadata": {
    "scrolled": true
   },
   "outputs": [
    {
     "name": "stdout",
     "output_type": "stream",
     "text": [
      "11.779 --> 10.628 --> 10.628 --> \n",
      "11.779 --> 10.628 --> 10.628 --> \n",
      "11.128 --> 9.907 --> 9.907 --> \n",
      "11.128 --> 9.907 --> 9.907 --> \n",
      "8.157 --> 7.027 --> 7.027 --> \n",
      "8.157 --> 7.027 --> 7.027 --> \n",
      "6.856 --> 5.577 --> 5.577 --> \n",
      "6.856 --> 5.577 --> 5.577 --> \n",
      "Resumed because of empty cluster\n",
      "Resumed because of empty cluster\n",
      "6.134 --> 4.177 --> 3.291 --> 3.291 --> \n",
      "Resumed because of empty cluster\n",
      "Resumed because of empty cluster\n",
      "6.134 --> 4.177 --> 3.291 --> 3.291 --> \n",
      "Resumed because of empty cluster\n",
      "Resumed because of empty cluster\n",
      "Resumed because of empty cluster\n",
      "Resumed because of empty cluster\n",
      "Resumed because of empty cluster\n",
      "Resumed because of empty cluster\n",
      "Resumed because of empty cluster\n",
      "Resumed because of empty cluster\n",
      "Resumed because of empty cluster\n",
      "Resumed because of empty cluster\n",
      "Resumed because of empty cluster\n",
      "Resumed because of empty cluster\n",
      "Resumed because of empty cluster\n",
      "Resumed because of empty cluster\n",
      "Resumed because of empty cluster\n",
      "Resumed because of empty cluster\n",
      "Resumed because of empty cluster\n",
      "Resumed because of empty cluster\n",
      "Resumed because of empty cluster\n",
      "Resumed because of empty cluster\n",
      "0.211 --> 0.064 --> 0.063 --> 0.063 --> \n",
      "17261.967 --> 17411.115 --> 17411.132 --> 17411.132 --> 17411.132 --> \n",
      "0.078 --> 0.038 --> 0.038 --> \n",
      "17385.340 --> 17438.902 --> 17439.120 --> 17439.126 --> 17439.127 --> 17439.127 --> 17439.127 --> \n",
      "0.076 --> 0.027 --> 0.022 --> 0.022 --> \n",
      "17443.264 --> 17487.108 --> 17487.176 --> 17487.178 --> 17487.178 --> \n",
      "0.056 --> 0.023 --> 0.018 --> 0.018 --> \n",
      "17468.368 --> 17507.731 --> 17507.799 --> 17507.800 --> 17507.800 --> \n",
      "0.030 --> 0.016 --> 0.016 --> \n",
      "17486.779 --> 17516.053 --> 17516.110 --> 17516.111 --> 17516.111 --> \n",
      "0.018 --> 0.007 --> 0.007 --> \n",
      "17497.761 --> 17525.153 --> 17525.212 --> 17525.213 --> 17525.213 --> \n"
     ]
    }
   ],
   "source": [
    "# Grid search on crop land cover class\n",
    "pg_dict, pg_df = tsclust.cluster_grid_search(pg)"
   ]
  },
  {
   "cell_type": "code",
   "execution_count": 17,
   "metadata": {},
   "outputs": [],
   "source": [
    "# Get cluster dataframe corresponding to parameter combination with largest silhouette score\n",
    "lowscore = pg_dict['clusters'][pg_df['sil_score'].idxmax()]"
   ]
  }
 ],
 "metadata": {
  "kernelspec": {
   "display_name": "Python 3",
   "language": "python",
   "name": "python3"
  },
  "language_info": {
   "codemirror_mode": {
    "name": "ipython",
    "version": 3
   },
   "file_extension": ".py",
   "mimetype": "text/x-python",
   "name": "python",
   "nbconvert_exporter": "python",
   "pygments_lexer": "ipython3",
   "version": "3.6.5"
  }
 },
 "nbformat": 4,
 "nbformat_minor": 2
}
