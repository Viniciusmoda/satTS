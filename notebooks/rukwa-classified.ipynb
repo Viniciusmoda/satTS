{
 "cells": [
  {
   "cell_type": "code",
   "execution_count": 1,
   "metadata": {},
   "outputs": [
    {
     "name": "stderr",
     "output_type": "stream",
     "text": [
      "Using TensorFlow backend.\n"
     ]
    }
   ],
   "source": [
    "import tspredict\n",
    "import pandas as pd\n",
    "import numpy as np\n",
    "import os\n",
    "import time\n",
    "from keras.models import Sequential\n",
    "from keras.models import model_from_json"
   ]
  },
  {
   "cell_type": "markdown",
   "metadata": {},
   "source": [
    "Load trained LSTM model. Model was trained on the first 6 dates in the 2017 growing season with <15% cloud cover. Features included blue, green, NDVI bands. "
   ]
  },
  {
   "cell_type": "code",
   "execution_count": 2,
   "metadata": {},
   "outputs": [],
   "source": [
    "# load json and create model\n",
    "json_file = open(\"/home/ec2-user/model_labeled.json\", 'r')\n",
    "loaded_model_json = json_file.read()\n",
    "json_file.close()\n",
    "model = model_from_json(loaded_model_json)"
   ]
  },
  {
   "cell_type": "code",
   "execution_count": 3,
   "metadata": {},
   "outputs": [
    {
     "name": "stdout",
     "output_type": "stream",
     "text": [
      "Loaded model from disk\n"
     ]
    }
   ],
   "source": [
    "# load weights into model\n",
    "model.load_weights(\"/home/ec2-user/model_labeled.h5\")\n",
    "print(\"Loaded model from disk\")"
   ]
  },
  {
   "cell_type": "code",
   "execution_count": 4,
   "metadata": {},
   "outputs": [],
   "source": [
    "# mean and standard deviation of features from training data - used to standardize features for model prediction\n",
    "mu = np.load('/home/ec2-user/mu.npy')\n",
    "sd = np.load('/home/ec2-user/sd.npy')"
   ]
  },
  {
   "cell_type": "code",
   "execution_count": 5,
   "metadata": {},
   "outputs": [],
   "source": [
    "# File paths to Sentinel-2 tiles to predict (intersecting the Rukwa region)\n",
    "fp = '/home/ec2-user/sent-scenes-s3'\n",
    "tiles = [fp + '/' + t for t in os.listdir(fp)]"
   ]
  },
  {
   "cell_type": "code",
   "execution_count": 6,
   "metadata": {},
   "outputs": [
    {
     "name": "stdout",
     "output_type": "stream",
     "text": [
      "/home/ec2-user/sent-scenes-s3/T36MTS\n",
      "/home/ec2-user/sent-scenes-s3/T35LRL\n",
      "/home/ec2-user/sent-scenes-s3/T35MRM\n",
      "/home/ec2-user/sent-scenes-s3/T36MUT\n",
      "/home/ec2-user/sent-scenes-s3/T36LTR\n",
      "/home/ec2-user/sent-scenes-s3/T36MTT\n",
      "/home/ec2-user/sent-scenes-s3/T35MRN\n",
      "/home/ec2-user/sent-scenes-s3/T36MVS\n",
      "/home/ec2-user/sent-scenes-s3/T36MUS\n",
      "/home/ec2-user/sent-scenes-s3/T36LUR\n"
     ]
    }
   ],
   "source": [
    "for tile in tiles:\n",
    "    print(tile)"
   ]
  },
  {
   "cell_type": "code",
   "execution_count": null,
   "metadata": {},
   "outputs": [
    {
     "name": "stdout",
     "output_type": "stream",
     "text": [
      "/home/ec2-user/sent-scenes-s3/T36MTS formatted\n",
      "/home/ec2-user/sent-scenes-s3/T36MTS predicted\n"
     ]
    }
   ],
   "source": [
    "start_time = time.time()\n",
    "\n",
    "for tile in tiles:\n",
    "    # Reshape bands in each scene to match input shape required by Keras sequential model\n",
    "    formatted_scene = tspredict.format_scene(tile, mu, sd)\n",
    "    \n",
    "    print(tile + ' formatted')\n",
    "    \n",
    "    # refimg can be any band from the same Sentinel-2 tile, outimg for writing pred. scene to disk\n",
    "    band_paths = []\n",
    "    for path, subdirs, files in os.walk(tile):\n",
    "        for name in files:\n",
    "            band_paths.append(os.path.join(path, name))\n",
    "    \n",
    "    refimg = band_paths[0]\n",
    "    outimg = tile + '/tile_predicted.tif'\n",
    "    \n",
    "    # Predict the full tile\n",
    "    predicted_tile = tspredict.classify_scene(formatted_scene=formatted_scene, model=model, \n",
    "                                              refimg=refimg, outimg=outimg)\n",
    "    print(tile + ' predicted')\n",
    "\n",
    "print(\"--- %s seconds ---\" % (time.time() - start_time))"
   ]
  },
  {
   "cell_type": "code",
   "execution_count": null,
   "metadata": {},
   "outputs": [],
   "source": [
    "# from joblib import Parallel, delayed\n",
    "# import multiprocessing\n",
    "\n",
    "# def predict_tile(tile):\n",
    "#     # Reshape bands in each scene to match input shape required by Keras sequential model\n",
    "#     formatted_scene = tspredict.format_scene(tile, mu, sd)\n",
    "    \n",
    "#      # refimg can be any band from the same Sentinel-2 tile, outimg for writing pred. scene to disk\n",
    "#     band_paths = []\n",
    "#     for path, subdirs, files in os.walk(tile):\n",
    "#         for name in files:\n",
    "#             band_paths.append(os.path.join(path, name))\n",
    "    \n",
    "#     refimg = band_paths[0]\n",
    "#     outimg = tile + '/tile_predicted.tif'\n",
    "    \n",
    "#     # Predict the full tile\n",
    "#     predicted_tile = tspredict.classify_scene(formatted_scene=formatted_scene, model=model, \n",
    "#                                               refimg=refimg, outimg=outimg)\n",
    "\n",
    "# # Perform computation in parallel\n",
    "# #Parallel(n_jobs=-1, backend=\"multiprocessing\")(map(delayed(predict_tile), tiles))\n",
    "# Parallel(n_jobs=-1)(delayed(predict_tile)(tile) for tile in tiles)"
   ]
  }
 ],
 "metadata": {
  "kernelspec": {
   "display_name": "Python 3",
   "language": "python",
   "name": "python3"
  },
  "language_info": {
   "codemirror_mode": {
    "name": "ipython",
    "version": 3
   },
   "file_extension": ".py",
   "mimetype": "text/x-python",
   "name": "python",
   "nbconvert_exporter": "python",
   "pygments_lexer": "ipython3",
   "version": "3.6.5"
  }
 },
 "nbformat": 4,
 "nbformat_minor": 2
}
