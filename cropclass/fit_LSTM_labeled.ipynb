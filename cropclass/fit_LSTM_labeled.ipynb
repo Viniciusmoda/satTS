{
 "cells": [
  {
   "cell_type": "code",
   "execution_count": 1,
   "metadata": {},
   "outputs": [
    {
     "name": "stderr",
     "output_type": "stream",
     "text": [
      "Using TensorFlow backend.\n"
     ]
    }
   ],
   "source": [
    "import tstrain\n",
    "import tsclust\n",
    "import pandas as pd\n",
    "from keras.models import Sequential\n",
    "from keras.layers import Dense\n",
    "from keras.layers import LSTM"
   ]
  },
  {
   "cell_type": "code",
   "execution_count": 27,
   "metadata": {},
   "outputs": [
    {
     "name": "stderr",
     "output_type": "stream",
     "text": [
      "/home/ec2-user/anaconda3/lib/python3.6/site-packages/IPython/core/interactiveshell.py:2785: DtypeWarning: Columns (4) have mixed types. Specify dtype option on import or set low_memory=False.\n",
      "  interactivity=interactivity, compiler=compiler, result=result)\n"
     ]
    }
   ],
   "source": [
    "# Training data - no crop labels\n",
    "td = pd.read_csv('/home/ec2-user/training_data_large.csv')"
   ]
  },
  {
   "cell_type": "code",
   "execution_count": 28,
   "metadata": {},
   "outputs": [],
   "source": [
    "td = td.drop(['Unnamed: 0'], axis=1)"
   ]
  },
  {
   "cell_type": "code",
   "execution_count": 30,
   "metadata": {},
   "outputs": [],
   "source": [
    "# Weird unexpexted strings\n",
    "td.loc[td['label'] == '0', 'label'] = 0\n",
    "td.loc[td['label'] == '1', 'label'] = 1\n",
    "td.loc[td['label'] == '2', 'label'] = 2\n",
    "td.loc[td['label'] == '3', 'label'] = 3\n",
    "td.loc[td['label'] == '4', 'label'] = 4"
   ]
  },
  {
   "cell_type": "code",
   "execution_count": 31,
   "metadata": {},
   "outputs": [
    {
     "data": {
      "text/plain": [
       "array(['veg', 'water', 4, 2, 0, 1, 3, 'urban'], dtype=object)"
      ]
     },
     "execution_count": 31,
     "metadata": {},
     "output_type": "execute_result"
    }
   ],
   "source": [
    "td.label.unique()"
   ]
  },
  {
   "cell_type": "code",
   "execution_count": 32,
   "metadata": {},
   "outputs": [],
   "source": [
    "# Group clusters 2 and 4 as \"maize\"; group clusters 0 and 1 as \"crop_2\"; leave cluster 3 alone, call it \"crop_3\"\n",
    "td.loc[td['label'] == 2, 'label'] = \"maize\"\n",
    "td.loc[td['label'] == 4, 'label'] = \"maize\"\n",
    "td.loc[td['label'] == 0, 'label'] = \"crop_2\"\n",
    "td.loc[td['label'] == 1, 'label'] = \"crop_2\"\n",
    "td.loc[td['label'] == 3, 'label'] = \"crop_3\""
   ]
  },
  {
   "cell_type": "code",
   "execution_count": 33,
   "metadata": {},
   "outputs": [
    {
     "data": {
      "text/plain": [
       "array(['veg', 'water', 'maize', 'crop_2', 'crop_3', 'urban'], dtype=object)"
      ]
     },
     "execution_count": 33,
     "metadata": {},
     "output_type": "execute_result"
    }
   ],
   "source": [
    "td.label.unique()"
   ]
  },
  {
   "cell_type": "code",
   "execution_count": 35,
   "metadata": {},
   "outputs": [],
   "source": [
    "# Use first 6 dates in time series (Nov 16, 2016 through May 25, 2017)\n",
    "dates = td.date.unique()\n",
    "datesub = dates[0:6]\n",
    "trainsub = td[td['date'].isin(datesub)]"
   ]
  },
  {
   "cell_type": "code",
   "execution_count": 37,
   "metadata": {},
   "outputs": [
    {
     "name": "stderr",
     "output_type": "stream",
     "text": [
      "/home/ec2-user/temporal-crop-classification/cropclass/tstrain.py:181: SettingWithCopyWarning: \n",
      "A value is trying to be set on a copy of a slice from a DataFrame.\n",
      "Try using .loc[row_indexer,col_indexer] = value instead\n",
      "\n",
      "See the caveats in the documentation: http://pandas.pydata.org/pandas-docs/stable/indexing.html#indexing-view-versus-copy\n",
      "  training_data['label'] = training_data['label'].astype('category')\n",
      "/home/ec2-user/temporal-crop-classification/cropclass/tstrain.py:187: SettingWithCopyWarning: \n",
      "A value is trying to be set on a copy of a slice from a DataFrame.\n",
      "Try using .loc[row_indexer,col_indexer] = value instead\n",
      "\n",
      "See the caveats in the documentation: http://pandas.pydata.org/pandas-docs/stable/indexing.html#indexing-view-versus-copy\n",
      "  training_data['label'] = training_data['label'].cat.codes.astype('str').astype('int')\n"
     ]
    }
   ],
   "source": [
    "# Fit a LSTM recurrent neural network. In this 'toy' example, a total of 25,000 samples are used to fit a model.\n",
    "# including 10,000 from the clustered \"cropped\" class, and 5,000 from each of the \"water\", \"urban\" and\n",
    "# \"vegetation\" classes. The bands (features) include red, blue, green, and nir. Y labels are numerically\n",
    "# encoded, and converted to \"one-hot\" vectors.\n",
    "\n",
    "# Format training data into correct 3D array of shape (n_samples, n_timesetps, n_features) required to fit a\n",
    "# Keras LSTM model. N_features corresponds to number of bands included in training data\n",
    "\n",
    "class_codes, x, y = tstrain.format_training_data(trainsub)"
   ]
  },
  {
   "cell_type": "code",
   "execution_count": 38,
   "metadata": {},
   "outputs": [],
   "source": [
    "# Split training and test data\n",
    "x_train, x_test, y_train, y_test = tstrain.split_train_test(x, y, seed=0)"
   ]
  },
  {
   "cell_type": "code",
   "execution_count": 39,
   "metadata": {},
   "outputs": [],
   "source": [
    "# Standardize features\n",
    "mu, sd, x_train_norm, x_test_norm = tstrain.standardize_features(x_train, x_test)"
   ]
  },
  {
   "cell_type": "code",
   "execution_count": 41,
   "metadata": {},
   "outputs": [
    {
     "name": "stdout",
     "output_type": "stream",
     "text": [
      "Epoch 1/50\n",
      " - 24s - loss: 0.5063 - categorical_accuracy: 0.8042\n",
      "Epoch 2/50\n",
      " - 21s - loss: 0.2836 - categorical_accuracy: 0.8922\n",
      "Epoch 3/50\n",
      " - 21s - loss: 0.2301 - categorical_accuracy: 0.9162\n",
      "Epoch 4/50\n",
      " - 21s - loss: 0.2019 - categorical_accuracy: 0.9273\n",
      "Epoch 5/50\n",
      " - 21s - loss: 0.1786 - categorical_accuracy: 0.9336\n",
      "Epoch 6/50\n",
      " - 21s - loss: 0.1687 - categorical_accuracy: 0.9373\n",
      "Epoch 7/50\n",
      " - 21s - loss: 0.1569 - categorical_accuracy: 0.9427\n",
      "Epoch 8/50\n",
      " - 21s - loss: 0.1427 - categorical_accuracy: 0.9476\n",
      "Epoch 9/50\n",
      " - 21s - loss: 0.1371 - categorical_accuracy: 0.9486\n",
      "Epoch 10/50\n",
      " - 21s - loss: 0.1266 - categorical_accuracy: 0.9518\n",
      "Epoch 11/50\n",
      " - 21s - loss: 0.1167 - categorical_accuracy: 0.9556\n",
      "Epoch 12/50\n",
      " - 21s - loss: 0.1137 - categorical_accuracy: 0.9585\n",
      "Epoch 13/50\n",
      " - 21s - loss: 0.1070 - categorical_accuracy: 0.9606\n",
      "Epoch 14/50\n",
      " - 21s - loss: 0.1041 - categorical_accuracy: 0.9615\n",
      "Epoch 15/50\n",
      " - 21s - loss: 0.1014 - categorical_accuracy: 0.9632\n",
      "Epoch 16/50\n",
      " - 21s - loss: 0.0970 - categorical_accuracy: 0.9641\n",
      "Epoch 17/50\n",
      " - 21s - loss: 0.0967 - categorical_accuracy: 0.9635\n",
      "Epoch 18/50\n",
      " - 21s - loss: 0.0928 - categorical_accuracy: 0.9647\n",
      "Epoch 19/50\n",
      " - 21s - loss: 0.0872 - categorical_accuracy: 0.9661\n",
      "Epoch 20/50\n",
      " - 21s - loss: 0.0894 - categorical_accuracy: 0.9678\n",
      "Epoch 21/50\n",
      " - 21s - loss: 0.0845 - categorical_accuracy: 0.9677\n",
      "Epoch 22/50\n",
      " - 21s - loss: 0.0822 - categorical_accuracy: 0.9688\n",
      "Epoch 23/50\n",
      " - 21s - loss: 0.0832 - categorical_accuracy: 0.9691\n",
      "Epoch 24/50\n",
      " - 21s - loss: 0.0775 - categorical_accuracy: 0.9708\n",
      "Epoch 25/50\n",
      " - 21s - loss: 0.0794 - categorical_accuracy: 0.9688\n",
      "Epoch 26/50\n",
      " - 21s - loss: 0.0746 - categorical_accuracy: 0.9716\n",
      "Epoch 27/50\n",
      " - 21s - loss: 0.0762 - categorical_accuracy: 0.9711\n",
      "Epoch 28/50\n",
      " - 21s - loss: 0.0711 - categorical_accuracy: 0.9733\n",
      "Epoch 29/50\n",
      " - 21s - loss: 0.0747 - categorical_accuracy: 0.9721\n",
      "Epoch 30/50\n",
      " - 21s - loss: 0.0676 - categorical_accuracy: 0.9745\n",
      "Epoch 31/50\n",
      " - 21s - loss: 0.0680 - categorical_accuracy: 0.9752\n",
      "Epoch 32/50\n",
      " - 21s - loss: 0.0655 - categorical_accuracy: 0.9747\n",
      "Epoch 33/50\n",
      " - 21s - loss: 0.0687 - categorical_accuracy: 0.9736\n",
      "Epoch 34/50\n",
      " - 21s - loss: 0.0641 - categorical_accuracy: 0.9754\n",
      "Epoch 35/50\n",
      " - 21s - loss: 0.0631 - categorical_accuracy: 0.9753\n",
      "Epoch 36/50\n",
      " - 21s - loss: 0.0610 - categorical_accuracy: 0.9765\n",
      "Epoch 37/50\n",
      " - 21s - loss: 0.0631 - categorical_accuracy: 0.9753\n",
      "Epoch 38/50\n",
      " - 21s - loss: 0.0601 - categorical_accuracy: 0.9768\n",
      "Epoch 39/50\n",
      " - 21s - loss: 0.0590 - categorical_accuracy: 0.9766\n",
      "Epoch 40/50\n",
      " - 21s - loss: 0.0558 - categorical_accuracy: 0.9773\n",
      "Epoch 41/50\n",
      " - 21s - loss: 0.0573 - categorical_accuracy: 0.9780\n",
      "Epoch 42/50\n",
      " - 21s - loss: 0.0572 - categorical_accuracy: 0.9779\n",
      "Epoch 43/50\n",
      " - 21s - loss: 0.0533 - categorical_accuracy: 0.9785\n",
      "Epoch 44/50\n",
      " - 21s - loss: 0.0550 - categorical_accuracy: 0.9782\n",
      "Epoch 45/50\n",
      " - 21s - loss: 0.0597 - categorical_accuracy: 0.9764\n",
      "Epoch 46/50\n",
      " - 21s - loss: 0.0546 - categorical_accuracy: 0.9785\n",
      "Epoch 47/50\n",
      " - 21s - loss: 0.0524 - categorical_accuracy: 0.9798\n",
      "Epoch 48/50\n",
      " - 21s - loss: 0.0516 - categorical_accuracy: 0.9798\n",
      "Epoch 49/50\n",
      " - 21s - loss: 0.0502 - categorical_accuracy: 0.9804\n",
      "Epoch 50/50\n",
      " - 21s - loss: 0.0538 - categorical_accuracy: 0.9785\n"
     ]
    },
    {
     "data": {
      "text/plain": [
       "<keras.callbacks.History at 0x7f9e3bd03b00>"
      ]
     },
     "execution_count": 41,
     "metadata": {},
     "output_type": "execute_result"
    }
   ],
   "source": [
    "# Train LSTM model\n",
    "n_timesteps = len(trainsub['date'].unique())\n",
    "n_features = len(trainsub['feature'].unique())\n",
    "\n",
    "model = Sequential()\n",
    "model.add(LSTM(32, activation='relu', return_sequences=True, input_shape=(n_timesteps, n_features)))\n",
    "model.add(LSTM(32, activation='relu', return_sequences=True))\n",
    "model.add(LSTM(32, activation='relu', return_sequences=True))\n",
    "model.add(LSTM(32, activation='relu', return_sequences=True))\n",
    "model.add(LSTM(32))\n",
    "model.add(Dense(activation='softmax', units=y.shape[1]))\n",
    "model.compile(loss='categorical_crossentropy', optimizer='adam', metrics=['categorical_accuracy'])\n",
    "model.fit(x_train_norm, y_train, epochs=50, batch_size=32, verbose=2)"
   ]
  },
  {
   "cell_type": "code",
   "execution_count": 42,
   "metadata": {},
   "outputs": [
    {
     "name": "stdout",
     "output_type": "stream",
     "text": [
      "7191/7191 [==============================] - 2s 214us/step\n"
     ]
    },
    {
     "data": {
      "text/plain": [
       "0.9712140175219024"
      ]
     },
     "execution_count": 42,
     "metadata": {},
     "output_type": "execute_result"
    }
   ],
   "source": [
    "# Model accuracy\n",
    "_, accuracy = model.evaluate(x_test_norm, y_test, batch_size=32)\n",
    "accuracy"
   ]
  },
  {
   "cell_type": "code",
   "execution_count": 43,
   "metadata": {},
   "outputs": [
    {
     "data": {
      "text/html": [
       "<div>\n",
       "<style scoped>\n",
       "    .dataframe tbody tr th:only-of-type {\n",
       "        vertical-align: middle;\n",
       "    }\n",
       "\n",
       "    .dataframe tbody tr th {\n",
       "        vertical-align: top;\n",
       "    }\n",
       "\n",
       "    .dataframe thead th {\n",
       "        text-align: right;\n",
       "    }\n",
       "</style>\n",
       "<table border=\"1\" class=\"dataframe\">\n",
       "  <thead>\n",
       "    <tr style=\"text-align: right;\">\n",
       "      <th></th>\n",
       "      <th>crop_2</th>\n",
       "      <th>crop_3</th>\n",
       "      <th>maize</th>\n",
       "      <th>urban</th>\n",
       "      <th>veg</th>\n",
       "      <th>water</th>\n",
       "      <th>recall</th>\n",
       "    </tr>\n",
       "  </thead>\n",
       "  <tbody>\n",
       "    <tr>\n",
       "      <th>crop_2</th>\n",
       "      <td>793</td>\n",
       "      <td>3</td>\n",
       "      <td>50</td>\n",
       "      <td>4</td>\n",
       "      <td>3</td>\n",
       "      <td>0</td>\n",
       "      <td>0.929660</td>\n",
       "    </tr>\n",
       "    <tr>\n",
       "      <th>crop_3</th>\n",
       "      <td>11</td>\n",
       "      <td>58</td>\n",
       "      <td>2</td>\n",
       "      <td>0</td>\n",
       "      <td>0</td>\n",
       "      <td>0</td>\n",
       "      <td>0.816901</td>\n",
       "    </tr>\n",
       "    <tr>\n",
       "      <th>maize</th>\n",
       "      <td>47</td>\n",
       "      <td>5</td>\n",
       "      <td>985</td>\n",
       "      <td>0</td>\n",
       "      <td>15</td>\n",
       "      <td>0</td>\n",
       "      <td>0.936312</td>\n",
       "    </tr>\n",
       "    <tr>\n",
       "      <th>urban</th>\n",
       "      <td>7</td>\n",
       "      <td>0</td>\n",
       "      <td>3</td>\n",
       "      <td>1179</td>\n",
       "      <td>1</td>\n",
       "      <td>0</td>\n",
       "      <td>0.990756</td>\n",
       "    </tr>\n",
       "    <tr>\n",
       "      <th>veg</th>\n",
       "      <td>33</td>\n",
       "      <td>1</td>\n",
       "      <td>23</td>\n",
       "      <td>0</td>\n",
       "      <td>1945</td>\n",
       "      <td>0</td>\n",
       "      <td>0.971528</td>\n",
       "    </tr>\n",
       "    <tr>\n",
       "      <th>water</th>\n",
       "      <td>0</td>\n",
       "      <td>0</td>\n",
       "      <td>0</td>\n",
       "      <td>0</td>\n",
       "      <td>0</td>\n",
       "      <td>2023</td>\n",
       "      <td>1.000000</td>\n",
       "    </tr>\n",
       "  </tbody>\n",
       "</table>\n",
       "</div>"
      ],
      "text/plain": [
       "        crop_2  crop_3  maize  urban   veg  water    recall\n",
       "crop_2     793       3     50      4     3      0  0.929660\n",
       "crop_3      11      58      2      0     0      0  0.816901\n",
       "maize       47       5    985      0    15      0  0.936312\n",
       "urban        7       0      3   1179     1      0  0.990756\n",
       "veg         33       1     23      0  1945      0  0.971528\n",
       "water        0       0      0      0     0   2023  1.000000"
      ]
     },
     "execution_count": 43,
     "metadata": {},
     "output_type": "execute_result"
    }
   ],
   "source": [
    "# Confusion matrix\n",
    "tstrain.conf_mat(x_test_norm, y_test, model, class_codes)"
   ]
  },
  {
   "cell_type": "code",
   "execution_count": 44,
   "metadata": {},
   "outputs": [],
   "source": [
    "# serialize model to JSON\n",
    "model_json = model.to_json()\n",
    "with open(\"/home/ec2-user/model_labeled.json\", \"w\") as json_file:\n",
    "    json_file.write(model_json)"
   ]
  },
  {
   "cell_type": "code",
   "execution_count": 45,
   "metadata": {},
   "outputs": [
    {
     "name": "stdout",
     "output_type": "stream",
     "text": [
      "Saved model to disk\n"
     ]
    }
   ],
   "source": [
    "# serialize weights to HDF5\n",
    "model.save_weights(\"/home/ec2-user/model_labeled.h5\")\n",
    "print(\"Saved model to disk\")"
   ]
  }
 ],
 "metadata": {
  "kernelspec": {
   "display_name": "Python 3",
   "language": "python",
   "name": "python3"
  },
  "language_info": {
   "codemirror_mode": {
    "name": "ipython",
    "version": 3
   },
   "file_extension": ".py",
   "mimetype": "text/x-python",
   "name": "python",
   "nbconvert_exporter": "python",
   "pygments_lexer": "ipython3",
   "version": "3.6.5"
  }
 },
 "nbformat": 4,
 "nbformat_minor": 2
}
