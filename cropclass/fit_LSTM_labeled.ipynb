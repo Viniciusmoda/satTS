{
 "cells": [
  {
   "cell_type": "code",
   "execution_count": 1,
   "metadata": {},
   "outputs": [
    {
     "name": "stderr",
     "output_type": "stream",
     "text": [
      "Using TensorFlow backend.\n"
     ]
    }
   ],
   "source": [
    "import tstrain\n",
    "import tsclust\n",
    "import pandas as pd\n",
    "from keras.models import Sequential\n",
    "from keras.layers import Dense\n",
    "from keras.layers import LSTM"
   ]
  },
  {
   "cell_type": "code",
   "execution_count": 3,
   "metadata": {},
   "outputs": [],
   "source": [
    "# Training data - no crop labels\n",
    "#td = pd.read_csv('/home/ec2-user/training_data_large.csv')\n",
    "td = pd.read_csv('/home/ec2-user/training_data_few_bands.csv') # <- only ndvi, green and blue bands"
   ]
  },
  {
   "cell_type": "code",
   "execution_count": 4,
   "metadata": {},
   "outputs": [],
   "source": [
    "td = td.drop(['Unnamed: 0'], axis=1)"
   ]
  },
  {
   "cell_type": "code",
   "execution_count": 5,
   "metadata": {},
   "outputs": [],
   "source": [
    "# Weird unexpexted strings\n",
    "td.loc[td['label'] == '0', 'label'] = 0\n",
    "td.loc[td['label'] == '1', 'label'] = 1\n",
    "td.loc[td['label'] == '2', 'label'] = 2\n",
    "td.loc[td['label'] == '3', 'label'] = 3\n",
    "td.loc[td['label'] == '4', 'label'] = 4"
   ]
  },
  {
   "cell_type": "code",
   "execution_count": 6,
   "metadata": {},
   "outputs": [
    {
     "data": {
      "text/plain": [
       "array(['veg', 'water', 4, 2, 0, 1, 3, 'urban'], dtype=object)"
      ]
     },
     "execution_count": 6,
     "metadata": {},
     "output_type": "execute_result"
    }
   ],
   "source": [
    "td.label.unique()"
   ]
  },
  {
   "cell_type": "code",
   "execution_count": 7,
   "metadata": {},
   "outputs": [],
   "source": [
    "# Group clusters 2 and 4 as \"maize\"; group clusters 0 and 1 as \"crop_2\"; leave cluster 3 alone, call it \"crop_3\"\n",
    "td.loc[td['label'] == 2, 'label'] = \"maize\"\n",
    "td.loc[td['label'] == 4, 'label'] = \"maize\"\n",
    "td.loc[td['label'] == 0, 'label'] = \"crop_2\"\n",
    "td.loc[td['label'] == 1, 'label'] = \"crop_2\"\n",
    "td.loc[td['label'] == 3, 'label'] = \"crop_3\""
   ]
  },
  {
   "cell_type": "code",
   "execution_count": 8,
   "metadata": {},
   "outputs": [
    {
     "data": {
      "text/plain": [
       "array(['veg', 'water', 'maize', 'crop_2', 'crop_3', 'urban'], dtype=object)"
      ]
     },
     "execution_count": 8,
     "metadata": {},
     "output_type": "execute_result"
    }
   ],
   "source": [
    "td.label.unique()"
   ]
  },
  {
   "cell_type": "code",
   "execution_count": 9,
   "metadata": {},
   "outputs": [],
   "source": [
    "# Use first 6 dates in time series (Nov 16, 2016 through May 25, 2017)\n",
    "dates = td.date.unique()\n",
    "datesub = dates[0:6]\n",
    "trainsub = td[td['date'].isin(datesub)]"
   ]
  },
  {
   "cell_type": "code",
   "execution_count": 13,
   "metadata": {},
   "outputs": [],
   "source": [
    "# Fit a LSTM recurrent neural network. In this 'toy' example, a total of 25,000 samples are used to fit a model.\n",
    "# including 10,000 from the clustered \"cropped\" class, and 5,000 from each of the \"water\", \"urban\" and\n",
    "# \"vegetation\" classes. The bands (features) include red, blue, green, and nir. Y labels are numerically\n",
    "# encoded, and converted to \"one-hot\" vectors.\n",
    "\n",
    "# Format training data into correct 3D array of shape (n_samples, n_timesetps, n_features) required to fit a\n",
    "# Keras LSTM model. N_features corresponds to number of bands included in training data\n",
    "\n",
    "class_codes, x, y = tstrain.format_training_data(trainsub)"
   ]
  },
  {
   "cell_type": "code",
   "execution_count": 15,
   "metadata": {},
   "outputs": [],
   "source": [
    "# Split training and test data\n",
    "x_train, x_test, y_train, y_test = tstrain.split_train_test(x, y, seed=0)"
   ]
  },
  {
   "cell_type": "code",
   "execution_count": 16,
   "metadata": {},
   "outputs": [],
   "source": [
    "# Standardize features\n",
    "mu, sd, x_train_norm, x_test_norm = tstrain.standardize_features(x_train, x_test)"
   ]
  },
  {
   "cell_type": "code",
   "execution_count": 17,
   "metadata": {},
   "outputs": [],
   "source": [
    "import numpy as np\n",
    "np.save('/home/ec2-user/mu.npy', mu)\n",
    "np.save('/home/ec2-user/sd.npy', sd)"
   ]
  },
  {
   "cell_type": "code",
   "execution_count": 19,
   "metadata": {},
   "outputs": [
    {
     "name": "stdout",
     "output_type": "stream",
     "text": [
      "Epoch 1/50\n",
      " - 25s - loss: 0.5378 - categorical_accuracy: 0.7764\n",
      "Epoch 2/50\n",
      " - 22s - loss: 0.3194 - categorical_accuracy: 0.8797\n",
      "Epoch 3/50\n",
      " - 22s - loss: 0.2674 - categorical_accuracy: 0.8996\n",
      "Epoch 4/50\n",
      " - 22s - loss: 0.2329 - categorical_accuracy: 0.9137\n",
      "Epoch 5/50\n",
      " - 22s - loss: 0.2193 - categorical_accuracy: 0.9179\n",
      "Epoch 6/50\n",
      " - 22s - loss: 0.1960 - categorical_accuracy: 0.9267\n",
      "Epoch 7/50\n",
      " - 22s - loss: 0.1796 - categorical_accuracy: 0.9318\n",
      "Epoch 8/50\n",
      " - 22s - loss: 0.1682 - categorical_accuracy: 0.9360\n",
      "Epoch 9/50\n",
      " - 22s - loss: 0.1584 - categorical_accuracy: 0.9412\n",
      "Epoch 10/50\n",
      " - 22s - loss: 0.1488 - categorical_accuracy: 0.9443\n",
      "Epoch 11/50\n",
      " - 22s - loss: 0.1448 - categorical_accuracy: 0.9466\n",
      "Epoch 12/50\n",
      " - 22s - loss: 0.1380 - categorical_accuracy: 0.9479\n",
      "Epoch 13/50\n",
      " - 22s - loss: 0.1282 - categorical_accuracy: 0.9517\n",
      "Epoch 14/50\n",
      " - 22s - loss: 0.1251 - categorical_accuracy: 0.9535\n",
      "Epoch 15/50\n",
      " - 22s - loss: 0.1187 - categorical_accuracy: 0.9553\n",
      "Epoch 16/50\n",
      " - 22s - loss: 0.1170 - categorical_accuracy: 0.9573\n",
      "Epoch 17/50\n",
      " - 22s - loss: 0.1099 - categorical_accuracy: 0.9582\n",
      "Epoch 18/50\n",
      " - 22s - loss: 0.1082 - categorical_accuracy: 0.9604\n",
      "Epoch 19/50\n",
      " - 22s - loss: 0.1025 - categorical_accuracy: 0.9614\n",
      "Epoch 20/50\n",
      " - 22s - loss: 0.1019 - categorical_accuracy: 0.9612\n",
      "Epoch 21/50\n",
      " - 22s - loss: 0.0971 - categorical_accuracy: 0.9631\n",
      "Epoch 22/50\n",
      " - 22s - loss: 0.0940 - categorical_accuracy: 0.9640\n",
      "Epoch 23/50\n",
      " - 22s - loss: 0.0950 - categorical_accuracy: 0.9652\n",
      "Epoch 24/50\n",
      " - 22s - loss: 0.0906 - categorical_accuracy: 0.9654\n",
      "Epoch 25/50\n",
      " - 22s - loss: 0.0910 - categorical_accuracy: 0.9656\n",
      "Epoch 26/50\n",
      " - 22s - loss: 0.0865 - categorical_accuracy: 0.9669\n",
      "Epoch 27/50\n",
      " - 22s - loss: 0.0843 - categorical_accuracy: 0.9679\n",
      "Epoch 28/50\n",
      " - 22s - loss: 0.0843 - categorical_accuracy: 0.9681\n",
      "Epoch 29/50\n",
      " - 22s - loss: 0.0842 - categorical_accuracy: 0.9676\n",
      "Epoch 30/50\n",
      " - 22s - loss: 0.0774 - categorical_accuracy: 0.9704\n",
      "Epoch 31/50\n",
      " - 22s - loss: 0.0802 - categorical_accuracy: 0.9699\n",
      "Epoch 32/50\n",
      " - 22s - loss: 0.0759 - categorical_accuracy: 0.9712\n",
      "Epoch 33/50\n",
      " - 22s - loss: 0.0779 - categorical_accuracy: 0.9707\n",
      "Epoch 34/50\n",
      " - 21s - loss: 0.0770 - categorical_accuracy: 0.9706\n",
      "Epoch 35/50\n",
      " - 22s - loss: 0.0753 - categorical_accuracy: 0.9717\n",
      "Epoch 36/50\n",
      " - 22s - loss: 0.0717 - categorical_accuracy: 0.9719\n",
      "Epoch 37/50\n",
      " - 22s - loss: 0.0724 - categorical_accuracy: 0.9734\n",
      "Epoch 38/50\n",
      " - 22s - loss: 0.0705 - categorical_accuracy: 0.9732\n",
      "Epoch 39/50\n",
      " - 22s - loss: 0.0685 - categorical_accuracy: 0.9736\n",
      "Epoch 40/50\n",
      " - 22s - loss: 0.0693 - categorical_accuracy: 0.9738\n",
      "Epoch 41/50\n",
      " - 22s - loss: 0.0665 - categorical_accuracy: 0.9736\n",
      "Epoch 42/50\n",
      " - 22s - loss: 0.0675 - categorical_accuracy: 0.9737\n",
      "Epoch 43/50\n",
      " - 22s - loss: 0.0636 - categorical_accuracy: 0.9757\n",
      "Epoch 44/50\n",
      " - 22s - loss: 0.0669 - categorical_accuracy: 0.9738\n",
      "Epoch 45/50\n",
      " - 22s - loss: 0.0622 - categorical_accuracy: 0.9759\n",
      "Epoch 46/50\n",
      " - 21s - loss: 0.0643 - categorical_accuracy: 0.9750\n",
      "Epoch 47/50\n",
      " - 21s - loss: 0.0648 - categorical_accuracy: 0.9756\n",
      "Epoch 48/50\n",
      " - 21s - loss: 0.0638 - categorical_accuracy: 0.9755\n",
      "Epoch 49/50\n",
      " - 22s - loss: 0.0647 - categorical_accuracy: 0.9753\n",
      "Epoch 50/50\n",
      " - 22s - loss: 0.0578 - categorical_accuracy: 0.9774\n"
     ]
    },
    {
     "data": {
      "text/plain": [
       "<keras.callbacks.History at 0x7f6405f8a710>"
      ]
     },
     "execution_count": 19,
     "metadata": {},
     "output_type": "execute_result"
    }
   ],
   "source": [
    "# Train LSTM model\n",
    "n_timesteps = len(trainsub['date'].unique())\n",
    "n_features = len(trainsub['feature'].unique())\n",
    "\n",
    "model = Sequential()\n",
    "model.add(LSTM(32, activation='relu', return_sequences=True, input_shape=(n_timesteps, n_features)))\n",
    "model.add(LSTM(32, activation='relu', return_sequences=True))\n",
    "model.add(LSTM(32, activation='relu', return_sequences=True))\n",
    "model.add(LSTM(32, activation='relu', return_sequences=True))\n",
    "model.add(LSTM(32))\n",
    "model.add(Dense(activation='softmax', units=y.shape[1]))\n",
    "model.compile(loss='categorical_crossentropy', optimizer='adam', metrics=['categorical_accuracy'])\n",
    "model.fit(x_train_norm, y_train, epochs=50, batch_size=32, verbose=2)"
   ]
  },
  {
   "cell_type": "code",
   "execution_count": 20,
   "metadata": {},
   "outputs": [
    {
     "name": "stdout",
     "output_type": "stream",
     "text": [
      "7191/7191 [==============================] - 2s 217us/step\n"
     ]
    },
    {
     "data": {
      "text/plain": [
       "0.9732999582811848"
      ]
     },
     "execution_count": 20,
     "metadata": {},
     "output_type": "execute_result"
    }
   ],
   "source": [
    "# Model accuracy\n",
    "_, accuracy = model.evaluate(x_test_norm, y_test, batch_size=32)\n",
    "accuracy"
   ]
  },
  {
   "cell_type": "code",
   "execution_count": 21,
   "metadata": {},
   "outputs": [
    {
     "data": {
      "text/html": [
       "<div>\n",
       "<style scoped>\n",
       "    .dataframe tbody tr th:only-of-type {\n",
       "        vertical-align: middle;\n",
       "    }\n",
       "\n",
       "    .dataframe tbody tr th {\n",
       "        vertical-align: top;\n",
       "    }\n",
       "\n",
       "    .dataframe thead th {\n",
       "        text-align: right;\n",
       "    }\n",
       "</style>\n",
       "<table border=\"1\" class=\"dataframe\">\n",
       "  <thead>\n",
       "    <tr style=\"text-align: right;\">\n",
       "      <th></th>\n",
       "      <th>crop_2</th>\n",
       "      <th>crop_3</th>\n",
       "      <th>maize</th>\n",
       "      <th>urban</th>\n",
       "      <th>veg</th>\n",
       "      <th>water</th>\n",
       "      <th>recall</th>\n",
       "    </tr>\n",
       "  </thead>\n",
       "  <tbody>\n",
       "    <tr>\n",
       "      <th>crop_2</th>\n",
       "      <td>798</td>\n",
       "      <td>7</td>\n",
       "      <td>31</td>\n",
       "      <td>6</td>\n",
       "      <td>11</td>\n",
       "      <td>0</td>\n",
       "      <td>0.935522</td>\n",
       "    </tr>\n",
       "    <tr>\n",
       "      <th>crop_3</th>\n",
       "      <td>11</td>\n",
       "      <td>59</td>\n",
       "      <td>1</td>\n",
       "      <td>0</td>\n",
       "      <td>0</td>\n",
       "      <td>0</td>\n",
       "      <td>0.830986</td>\n",
       "    </tr>\n",
       "    <tr>\n",
       "      <th>maize</th>\n",
       "      <td>51</td>\n",
       "      <td>5</td>\n",
       "      <td>978</td>\n",
       "      <td>0</td>\n",
       "      <td>18</td>\n",
       "      <td>0</td>\n",
       "      <td>0.929658</td>\n",
       "    </tr>\n",
       "    <tr>\n",
       "      <th>urban</th>\n",
       "      <td>11</td>\n",
       "      <td>0</td>\n",
       "      <td>1</td>\n",
       "      <td>1177</td>\n",
       "      <td>1</td>\n",
       "      <td>0</td>\n",
       "      <td>0.989076</td>\n",
       "    </tr>\n",
       "    <tr>\n",
       "      <th>veg</th>\n",
       "      <td>15</td>\n",
       "      <td>0</td>\n",
       "      <td>21</td>\n",
       "      <td>2</td>\n",
       "      <td>1964</td>\n",
       "      <td>0</td>\n",
       "      <td>0.981019</td>\n",
       "    </tr>\n",
       "    <tr>\n",
       "      <th>water</th>\n",
       "      <td>0</td>\n",
       "      <td>0</td>\n",
       "      <td>0</td>\n",
       "      <td>0</td>\n",
       "      <td>0</td>\n",
       "      <td>2023</td>\n",
       "      <td>1.000000</td>\n",
       "    </tr>\n",
       "  </tbody>\n",
       "</table>\n",
       "</div>"
      ],
      "text/plain": [
       "        crop_2  crop_3  maize  urban   veg  water    recall\n",
       "crop_2     798       7     31      6    11      0  0.935522\n",
       "crop_3      11      59      1      0     0      0  0.830986\n",
       "maize       51       5    978      0    18      0  0.929658\n",
       "urban       11       0      1   1177     1      0  0.989076\n",
       "veg         15       0     21      2  1964      0  0.981019\n",
       "water        0       0      0      0     0   2023  1.000000"
      ]
     },
     "execution_count": 21,
     "metadata": {},
     "output_type": "execute_result"
    }
   ],
   "source": [
    "# Confusion matrix\n",
    "tstrain.conf_mat(x_test_norm, y_test, model, class_codes)"
   ]
  },
  {
   "cell_type": "code",
   "execution_count": 22,
   "metadata": {},
   "outputs": [],
   "source": [
    "# serialize model to JSON\n",
    "model_json = model.to_json()\n",
    "with open(\"/home/ec2-user/model_labeled.json\", \"w\") as json_file:\n",
    "    json_file.write(model_json)"
   ]
  },
  {
   "cell_type": "code",
   "execution_count": 23,
   "metadata": {},
   "outputs": [
    {
     "name": "stdout",
     "output_type": "stream",
     "text": [
      "Saved model to disk\n"
     ]
    }
   ],
   "source": [
    "# serialize weights to HDF5\n",
    "model.save_weights(\"/home/ec2-user/model_labeled.h5\")\n",
    "print(\"Saved model to disk\")"
   ]
  },
  {
   "cell_type": "code",
   "execution_count": null,
   "metadata": {},
   "outputs": [],
   "source": []
  }
 ],
 "metadata": {
  "kernelspec": {
   "display_name": "Python 3",
   "language": "python",
   "name": "python3"
  },
  "language_info": {
   "codemirror_mode": {
    "name": "ipython",
    "version": 3
   },
   "file_extension": ".py",
   "mimetype": "text/x-python",
   "name": "python",
   "nbconvert_exporter": "python",
   "pygments_lexer": "ipython3",
   "version": "3.6.5"
  }
 },
 "nbformat": 4,
 "nbformat_minor": 2
}
