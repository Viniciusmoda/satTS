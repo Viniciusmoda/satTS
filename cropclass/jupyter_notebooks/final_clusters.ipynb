{
 "cells": [
  {
   "cell_type": "code",
   "execution_count": 1,
   "metadata": {},
   "outputs": [],
   "source": [
    "import tsclust\n",
    "import pandas as pd"
   ]
  },
  {
   "cell_type": "code",
   "execution_count": 2,
   "metadata": {},
   "outputs": [],
   "source": [
    "cropdf = pd.read_csv('/home/ec2-user/crop_ndvi_interp.csv')\n",
    "cropdf = cropdf.rename(columns={\"array_ind\": \"array_index\"})"
   ]
  },
  {
   "cell_type": "code",
   "execution_count": 3,
   "metadata": {},
   "outputs": [],
   "source": [
    "cropts = tsclust.TimeSeriesSample(cropdf, n_samples=10000, ts_var='ndvi', seed=0).smooth()"
   ]
  },
  {
   "cell_type": "code",
   "execution_count": 4,
   "metadata": {},
   "outputs": [
    {
     "name": "stdout",
     "output_type": "stream",
     "text": [
      "0.148 --> 0.057 --> 0.055 --> 0.054 --> 0.053 --> 0.053 --> 0.053 --> 0.053 --> 0.052 --> 0.052 --> 0.052 --> 0.052 --> 0.052 --> 0.052 --> 0.052 --> 0.052 --> 0.052 --> 0.052 --> 0.052 --> 0.052 --> 0.052 --> 0.052 --> 0.052 --> 0.052 --> 0.052 --> 0.052 --> 0.052 --> 0.052 --> 0.052 --> 0.052 --> 0.052 --> 0.052 --> 0.052 --> 0.052 --> 0.052 --> 0.052 --> 0.052 --> 0.052 --> 0.052 --> 0.052 --> 0.052 --> 0.052 --> 0.052 --> 0.052 --> 0.052 --> 0.052 --> 0.052 --> \n",
      "0.134 --> 0.053 --> 0.049 --> 0.048 --> 0.048 --> 0.048 --> 0.048 --> 0.048 --> 0.048 --> 0.047 --> 0.047 --> 0.047 --> 0.047 --> 0.047 --> 0.047 --> 0.047 --> 0.047 --> 0.047 --> 0.047 --> 0.047 --> 0.047 --> 0.047 --> 0.047 --> 0.047 --> 0.047 --> 0.047 --> 0.047 --> 0.047 --> 0.047 --> 0.047 --> 0.047 --> 0.047 --> 0.047 --> 0.047 --> 0.047 --> 0.047 --> 0.047 --> 0.047 --> 0.047 --> 0.047 --> 0.047 --> 0.047 --> 0.047 --> 0.047 --> 0.047 --> 0.047 --> 0.047 --> 0.047 --> 0.047 --> 0.047 --> \n",
      "0.093 --> 0.047 --> 0.046 --> 0.045 --> 0.044 --> 0.044 --> 0.043 --> 0.043 --> 0.043 --> 0.043 --> 0.043 --> 0.043 --> 0.043 --> 0.043 --> 0.043 --> 0.043 --> 0.043 --> 0.043 --> 0.043 --> 0.043 --> 0.043 --> 0.043 --> 0.043 --> 0.043 --> 0.043 --> 0.043 --> 0.043 --> 0.043 --> 0.043 --> 0.043 --> 0.043 --> 0.043 --> 0.043 --> 0.043 --> 0.043 --> 0.043 --> 0.043 --> 0.043 --> 0.043 --> 0.043 --> 0.043 --> 0.043 --> 0.043 --> 0.043 --> 0.043 --> 0.043 --> 0.043 --> 0.043 --> 0.043 --> 0.043 --> \n"
     ]
    }
   ],
   "source": [
    "clust4 = tsclust.cluster_time_series(cropts, cluster_alg='TSKM', n_clusters=4, cluster_metric='dtw')\n",
    "clust5 = tsclust.cluster_time_series(cropts, cluster_alg='TSKM', n_clusters=5, cluster_metric='dtw')\n",
    "clust6 = tsclust.cluster_time_series(cropts, cluster_alg='TSKM', n_clusters=6, cluster_metric='dtw')"
   ]
  },
  {
   "cell_type": "code",
   "execution_count": 5,
   "metadata": {},
   "outputs": [],
   "source": [
    "clust4.to_csv('/home/ec2-user/final_clusters/4_clusters.csv', index=False)\n",
    "clust5.to_csv('/home/ec2-user/final_clusters/5_clusters.csv', index=False)\n",
    "clust6.to_csv('/home/ec2-user/final_clusters/6_clusters.csv', index=False)"
   ]
  }
 ],
 "metadata": {
  "kernelspec": {
   "display_name": "Python 3",
   "language": "python",
   "name": "python3"
  },
  "language_info": {
   "codemirror_mode": {
    "name": "ipython",
    "version": 3
   },
   "file_extension": ".py",
   "mimetype": "text/x-python",
   "name": "python",
   "nbconvert_exporter": "python",
   "pygments_lexer": "ipython3",
   "version": "3.6.5"
  }
 },
 "nbformat": 4,
 "nbformat_minor": 2
}
