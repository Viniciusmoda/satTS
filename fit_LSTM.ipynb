{
 "cells": [
  {
   "cell_type": "code",
   "execution_count": 1,
   "metadata": {},
   "outputs": [
    {
     "name": "stderr",
     "output_type": "stream",
     "text": [
      "Using TensorFlow backend.\n"
     ]
    }
   ],
   "source": [
    "import tstrain\n",
    "import tsclust\n",
    "import pandas as pd\n",
    "from keras.models import Sequential\n",
    "from keras.layers import Dense\n",
    "from keras.layers import LSTM"
   ]
  },
  {
   "cell_type": "code",
   "execution_count": 3,
   "metadata": {},
   "outputs": [],
   "source": [
    "### Create ndvi bands for each date in Sentinel-2 asset dataset ###\n",
    "\n",
    "# File path containing Sentinel-2 bands intersecting with AOI, organized by date \n",
    "#fp = '/home/ec2-user/Sentinel-2A' # <- all bands all dates\n",
    "fp = '/home/ec2-user/prediction_scenes/Sentinel-2A' # <- First 6 dates only; NDVI, green and blue bands \n",
    "\n",
    "# Band dictionary to match asset names with variables\n",
    "asset_dict = {'B02': 'blue',\n",
    "              'B03': 'green',\n",
    "              'B04': 'red',\n",
    "              'B08': 'nir'}\n",
    "\n",
    "# For now, create ndvi index only\n",
    "#indices = ['ndvi']"
   ]
  },
  {
   "cell_type": "code",
   "execution_count": 3,
   "metadata": {},
   "outputs": [],
   "source": [
    "# # Perform calculation and save images to appropriate directory\n",
    "# tstrain.calulate_indices(fp, asset_dict, indices)"
   ]
  },
  {
   "cell_type": "code",
   "execution_count": 4,
   "metadata": {},
   "outputs": [
    {
     "data": {
      "text/plain": [
       "(10000, 82)"
      ]
     },
     "execution_count": 4,
     "metadata": {},
     "output_type": "execute_result"
    }
   ],
   "source": [
    "# Clustered NDVI time-series data for cropped area; 5 clusters\n",
    "clust5 = pd.read_csv('/home/ec2-user/sample/5_clusters.csv')\n",
    "clust5.shape"
   ]
  },
  {
   "cell_type": "code",
   "execution_count": 5,
   "metadata": {},
   "outputs": [
    {
     "name": "stderr",
     "output_type": "stream",
     "text": [
      "/home/ec2-user/anaconda3/lib/python3.6/site-packages/ipykernel_launcher.py:15: FutureWarning: Sorting because non-concatenation axis is not aligned. A future version\n",
      "of pandas will change to not sort by default.\n",
      "\n",
      "To accept the future behavior, pass 'sort=True'.\n",
      "\n",
      "To retain the current behavior and silence the warning, pass sort=False\n",
      "\n",
      "  from ipykernel import kernelapp as app\n"
     ]
    }
   ],
   "source": [
    "# Combine samples from clustered cropped area, and other land cover classes into single dataset\n",
    "# for model fitting. `lcts` is file path to .csv files containing NDVI time-series' from vegetation,\n",
    "# urban, and water land cover classes.\n",
    "lcts = '/home/ec2-user/sample/land_cover_samples'\n",
    "\n",
    "# Take n_samples of each non-crop land cover class\n",
    "noncrop_samples = tstrain.random_ts_samples(lcts, n_samples=10000, seed=0)\n",
    "\n",
    "# Rename and drop columns to allow concatination of crop and non-crop samples\n",
    "clust5 = clust5.rename(columns={'cluster': 'label'})\n",
    "clust5 = clust5.drop(['lc'], axis=1)\n",
    "\n",
    "# Combine datasets\n",
    "dlist = [clust5, noncrop_samples]\n",
    "allsamples = pd.concat(dlist, ignore_index=True)"
   ]
  },
  {
   "cell_type": "code",
   "execution_count": 6,
   "metadata": {},
   "outputs": [],
   "source": [
    "# Using raster index locations from `allsamples` (Step 1), extract band reflectance values from a time-series of \n",
    "# scenes contained in a directory generated using the default sat-search directory structure\n",
    "\n",
    "# Extract training data from Sentinel-2 time-series\n",
    "training_data = tstrain.get_training_data(fp, asset_dict, allsamples, standardize=False)"
   ]
  },
  {
   "cell_type": "code",
   "execution_count": 7,
   "metadata": {},
   "outputs": [
    {
     "data": {
      "text/html": [
       "<div>\n",
       "<style scoped>\n",
       "    .dataframe tbody tr th:only-of-type {\n",
       "        vertical-align: middle;\n",
       "    }\n",
       "\n",
       "    .dataframe tbody tr th {\n",
       "        vertical-align: top;\n",
       "    }\n",
       "\n",
       "    .dataframe thead th {\n",
       "        text-align: right;\n",
       "    }\n",
       "</style>\n",
       "<table border=\"1\" class=\"dataframe\">\n",
       "  <thead>\n",
       "    <tr style=\"text-align: right;\">\n",
       "      <th></th>\n",
       "      <th></th>\n",
       "      <th></th>\n",
       "      <th>value</th>\n",
       "      <th>label</th>\n",
       "    </tr>\n",
       "    <tr>\n",
       "      <th>date</th>\n",
       "      <th>ind</th>\n",
       "      <th>feature</th>\n",
       "      <th></th>\n",
       "      <th></th>\n",
       "    </tr>\n",
       "  </thead>\n",
       "  <tbody>\n",
       "    <tr>\n",
       "      <th rowspan=\"3\" valign=\"top\">2016-11-16</th>\n",
       "      <th rowspan=\"3\" valign=\"top\">(2428, 4479)</th>\n",
       "      <th>blue</th>\n",
       "      <td>0.1081</td>\n",
       "      <td>veg</td>\n",
       "    </tr>\n",
       "    <tr>\n",
       "      <th>green</th>\n",
       "      <td>0.1010</td>\n",
       "      <td>veg</td>\n",
       "    </tr>\n",
       "    <tr>\n",
       "      <th>ndvi</th>\n",
       "      <td>0.2294</td>\n",
       "      <td>veg</td>\n",
       "    </tr>\n",
       "    <tr>\n",
       "      <th rowspan=\"3\" valign=\"top\">2017-02-14</th>\n",
       "      <th rowspan=\"3\" valign=\"top\">(2428, 4479)</th>\n",
       "      <th>blue</th>\n",
       "      <td>0.0854</td>\n",
       "      <td>veg</td>\n",
       "    </tr>\n",
       "    <tr>\n",
       "      <th>green</th>\n",
       "      <td>0.0870</td>\n",
       "      <td>veg</td>\n",
       "    </tr>\n",
       "    <tr>\n",
       "      <th>ndvi</th>\n",
       "      <td>0.6892</td>\n",
       "      <td>veg</td>\n",
       "    </tr>\n",
       "    <tr>\n",
       "      <th rowspan=\"3\" valign=\"top\">2017-04-05</th>\n",
       "      <th rowspan=\"3\" valign=\"top\">(2428, 4479)</th>\n",
       "      <th>blue</th>\n",
       "      <td>0.0766</td>\n",
       "      <td>veg</td>\n",
       "    </tr>\n",
       "    <tr>\n",
       "      <th>green</th>\n",
       "      <td>0.0841</td>\n",
       "      <td>veg</td>\n",
       "    </tr>\n",
       "    <tr>\n",
       "      <th>ndvi</th>\n",
       "      <td>0.7618</td>\n",
       "      <td>veg</td>\n",
       "    </tr>\n",
       "    <tr>\n",
       "      <th rowspan=\"3\" valign=\"top\">2017-05-05</th>\n",
       "      <th rowspan=\"3\" valign=\"top\">(2428, 4479)</th>\n",
       "      <th>blue</th>\n",
       "      <td>0.0815</td>\n",
       "      <td>veg</td>\n",
       "    </tr>\n",
       "    <tr>\n",
       "      <th>green</th>\n",
       "      <td>0.0804</td>\n",
       "      <td>veg</td>\n",
       "    </tr>\n",
       "    <tr>\n",
       "      <th>ndvi</th>\n",
       "      <td>0.7272</td>\n",
       "      <td>veg</td>\n",
       "    </tr>\n",
       "    <tr>\n",
       "      <th rowspan=\"3\" valign=\"top\">2017-05-15</th>\n",
       "      <th rowspan=\"3\" valign=\"top\">(2428, 4479)</th>\n",
       "      <th>blue</th>\n",
       "      <td>0.0772</td>\n",
       "      <td>veg</td>\n",
       "    </tr>\n",
       "    <tr>\n",
       "      <th>green</th>\n",
       "      <td>0.0740</td>\n",
       "      <td>veg</td>\n",
       "    </tr>\n",
       "    <tr>\n",
       "      <th>ndvi</th>\n",
       "      <td>0.7265</td>\n",
       "      <td>veg</td>\n",
       "    </tr>\n",
       "    <tr>\n",
       "      <th rowspan=\"3\" valign=\"top\">2017-05-25</th>\n",
       "      <th rowspan=\"3\" valign=\"top\">(2428, 4479)</th>\n",
       "      <th>blue</th>\n",
       "      <td>0.0760</td>\n",
       "      <td>veg</td>\n",
       "    </tr>\n",
       "    <tr>\n",
       "      <th>green</th>\n",
       "      <td>0.0706</td>\n",
       "      <td>veg</td>\n",
       "    </tr>\n",
       "    <tr>\n",
       "      <th>ndvi</th>\n",
       "      <td>0.6695</td>\n",
       "      <td>veg</td>\n",
       "    </tr>\n",
       "    <tr>\n",
       "      <th rowspan=\"2\" valign=\"top\">2016-11-16</th>\n",
       "      <th rowspan=\"2\" valign=\"top\">(2429, 4441)</th>\n",
       "      <th>blue</th>\n",
       "      <td>0.1048</td>\n",
       "      <td>veg</td>\n",
       "    </tr>\n",
       "    <tr>\n",
       "      <th>green</th>\n",
       "      <td>0.0963</td>\n",
       "      <td>veg</td>\n",
       "    </tr>\n",
       "  </tbody>\n",
       "</table>\n",
       "</div>"
      ],
      "text/plain": [
       "                                  value label\n",
       "date       ind          feature              \n",
       "2016-11-16 (2428, 4479) blue     0.1081   veg\n",
       "                        green    0.1010   veg\n",
       "                        ndvi     0.2294   veg\n",
       "2017-02-14 (2428, 4479) blue     0.0854   veg\n",
       "                        green    0.0870   veg\n",
       "                        ndvi     0.6892   veg\n",
       "2017-04-05 (2428, 4479) blue     0.0766   veg\n",
       "                        green    0.0841   veg\n",
       "                        ndvi     0.7618   veg\n",
       "2017-05-05 (2428, 4479) blue     0.0815   veg\n",
       "                        green    0.0804   veg\n",
       "                        ndvi     0.7272   veg\n",
       "2017-05-15 (2428, 4479) blue     0.0772   veg\n",
       "                        green    0.0740   veg\n",
       "                        ndvi     0.7265   veg\n",
       "2017-05-25 (2428, 4479) blue     0.0760   veg\n",
       "                        green    0.0706   veg\n",
       "                        ndvi     0.6695   veg\n",
       "2016-11-16 (2429, 4441) blue     0.1048   veg\n",
       "                        green    0.0963   veg"
      ]
     },
     "execution_count": 7,
     "metadata": {},
     "output_type": "execute_result"
    }
   ],
   "source": [
    "i = training_data.set_index(['date', 'ind', 'feature'])\n",
    "i.head(20)"
   ]
  },
  {
   "cell_type": "code",
   "execution_count": 11,
   "metadata": {},
   "outputs": [],
   "source": [
    "#training_data.to_csv('/home/ec2-user/training_data.csv')\n",
    "#training_data.to_csv('/home/ec2-user/training_data_few_bands.csv')"
   ]
  },
  {
   "cell_type": "code",
   "execution_count": 8,
   "metadata": {},
   "outputs": [],
   "source": [
    "# Use first 7 dates in time series (Nov 16, 2016 through June 6, 2017)\n",
    "dates = training_data.date.unique()\n",
    "datesub = dates[0:6]\n",
    "trainsub = training_data[training_data['date'].isin(datesub)]"
   ]
  },
  {
   "cell_type": "code",
   "execution_count": 9,
   "metadata": {},
   "outputs": [
    {
     "data": {
      "text/plain": [
       "array(['2016-11-16', '2017-02-14', '2017-04-05', '2017-05-05',\n",
       "       '2017-05-15', '2017-05-25'], dtype=object)"
      ]
     },
     "execution_count": 9,
     "metadata": {},
     "output_type": "execute_result"
    }
   ],
   "source": [
    "datesub"
   ]
  },
  {
   "cell_type": "code",
   "execution_count": 10,
   "metadata": {},
   "outputs": [],
   "source": [
    "# Fit a LSTM recurrent neural network. In this 'toy' example, a total of 25,000 samples are used to fit a model.\n",
    "# including 10,000 from the clustered \"cropped\" class, and 5,000 from each of the \"water\", \"urban\" and\n",
    "# \"vegetation\" classes. The bands (features) include red, blue, green, and nir. Y labels are numerically\n",
    "# encoded, and converted to \"one-hot\" vectors.\n",
    "\n",
    "# Format training data into correct 3D array of shape (n_samples, n_timesetps, n_features) required to fit a\n",
    "# Keras LSTM model. N_features corresponds to number of bands included in training data\n",
    "\n",
    "class_codes, x, y = tstrain.format_training_data(trainsub)"
   ]
  },
  {
   "cell_type": "code",
   "execution_count": 12,
   "metadata": {},
   "outputs": [
    {
     "data": {
      "text/plain": [
       "{0: 0, 1: 1, 2: 2, 3: 3, 4: 4, 5: 'urban', 6: 'veg', 7: 'water'}"
      ]
     },
     "execution_count": 12,
     "metadata": {},
     "output_type": "execute_result"
    }
   ],
   "source": [
    "class_codes"
   ]
  },
  {
   "cell_type": "code",
   "execution_count": 14,
   "metadata": {},
   "outputs": [],
   "source": [
    "# Split training and test data\n",
    "x_train, x_test, y_train, y_test = tstrain.split_train_test(x, y, seed=0)"
   ]
  },
  {
   "cell_type": "code",
   "execution_count": 16,
   "metadata": {},
   "outputs": [],
   "source": [
    "# def standardize_features(x_train, x_test):\n",
    "#     '''Standardize features of 3D array formated for keras sequential model'''\n",
    "\n",
    "#     mu = x_train.mean(axis=(0, 1))\n",
    "#     sd = x_train.std(axis=(0, 1))\n",
    "\n",
    "#     x_train_norm = (x_train - mu) / sd\n",
    "#     x_test_norm = (x_test - mu) / sd\n",
    "\n",
    "#     return mu, sd, x_train_norm, x_test_norm"
   ]
  },
  {
   "cell_type": "code",
   "execution_count": 15,
   "metadata": {},
   "outputs": [],
   "source": [
    "# Standardize features\n",
    "mu, sd, x_train_norm, x_test_norm = tstrain.standardize_features(x_train, x_test)"
   ]
  },
  {
   "cell_type": "code",
   "execution_count": 17,
   "metadata": {},
   "outputs": [
    {
     "name": "stdout",
     "output_type": "stream",
     "text": [
      "Epoch 1/50\n",
      " - 24s - loss: 0.6634 - categorical_accuracy: 0.7589\n",
      "Epoch 2/50\n",
      " - 21s - loss: 0.4108 - categorical_accuracy: 0.8467\n",
      "Epoch 3/50\n",
      " - 21s - loss: 0.3545 - categorical_accuracy: 0.8662\n",
      "Epoch 4/50\n",
      " - 21s - loss: 0.3263 - categorical_accuracy: 0.8755\n",
      "Epoch 5/50\n",
      " - 21s - loss: 0.3030 - categorical_accuracy: 0.8853\n",
      "Epoch 6/50\n",
      " - 21s - loss: 0.2863 - categorical_accuracy: 0.8896\n",
      "Epoch 7/50\n",
      " - 21s - loss: 0.2685 - categorical_accuracy: 0.8964\n",
      "Epoch 8/50\n",
      " - 21s - loss: 0.2539 - categorical_accuracy: 0.9024\n",
      "Epoch 9/50\n",
      " - 21s - loss: 0.2416 - categorical_accuracy: 0.9057\n",
      "Epoch 10/50\n",
      " - 21s - loss: 0.2365 - categorical_accuracy: 0.9074\n",
      "Epoch 11/50\n",
      " - 21s - loss: 0.2256 - categorical_accuracy: 0.9119\n",
      "Epoch 12/50\n",
      " - 21s - loss: 0.2214 - categorical_accuracy: 0.9129\n",
      "Epoch 13/50\n",
      " - 21s - loss: 0.2125 - categorical_accuracy: 0.9166\n",
      "Epoch 14/50\n",
      " - 21s - loss: 0.2071 - categorical_accuracy: 0.9188\n",
      "Epoch 15/50\n",
      " - 21s - loss: 0.2015 - categorical_accuracy: 0.9212\n",
      "Epoch 16/50\n",
      " - 21s - loss: 0.1958 - categorical_accuracy: 0.9220\n",
      "Epoch 17/50\n",
      " - 21s - loss: 0.1936 - categorical_accuracy: 0.9231\n",
      "Epoch 18/50\n",
      " - 21s - loss: 0.1893 - categorical_accuracy: 0.9243\n",
      "Epoch 19/50\n",
      " - 21s - loss: 0.1835 - categorical_accuracy: 0.9271\n",
      "Epoch 20/50\n",
      " - 21s - loss: 0.1827 - categorical_accuracy: 0.9270\n",
      "Epoch 21/50\n",
      " - 21s - loss: 0.1773 - categorical_accuracy: 0.9295\n",
      "Epoch 22/50\n",
      " - 21s - loss: 0.1738 - categorical_accuracy: 0.9303\n",
      "Epoch 23/50\n",
      " - 21s - loss: 0.1774 - categorical_accuracy: 0.9299\n",
      "Epoch 24/50\n",
      " - 21s - loss: 0.1691 - categorical_accuracy: 0.9340\n",
      "Epoch 25/50\n",
      " - 21s - loss: 0.1660 - categorical_accuracy: 0.9329\n",
      "Epoch 26/50\n",
      " - 21s - loss: 0.1639 - categorical_accuracy: 0.9330\n",
      "Epoch 27/50\n",
      " - 21s - loss: 0.1719 - categorical_accuracy: 0.9301\n",
      "Epoch 28/50\n",
      " - 21s - loss: 0.1601 - categorical_accuracy: 0.9371\n",
      "Epoch 29/50\n",
      " - 21s - loss: 0.1558 - categorical_accuracy: 0.9364\n",
      "Epoch 30/50\n",
      " - 21s - loss: 0.1558 - categorical_accuracy: 0.9363\n",
      "Epoch 31/50\n",
      " - 21s - loss: 0.1561 - categorical_accuracy: 0.9366\n",
      "Epoch 32/50\n",
      " - 21s - loss: 0.1528 - categorical_accuracy: 0.9371\n",
      "Epoch 33/50\n",
      " - 21s - loss: 0.1497 - categorical_accuracy: 0.9393\n",
      "Epoch 34/50\n",
      " - 21s - loss: 0.1492 - categorical_accuracy: 0.9388\n",
      "Epoch 35/50\n",
      " - 21s - loss: 0.1444 - categorical_accuracy: 0.9398\n",
      "Epoch 36/50\n",
      " - 21s - loss: 0.1485 - categorical_accuracy: 0.9386\n",
      "Epoch 37/50\n",
      " - 21s - loss: 0.1478 - categorical_accuracy: 0.9393\n",
      "Epoch 38/50\n",
      " - 21s - loss: 0.1517 - categorical_accuracy: 0.9381\n",
      "Epoch 39/50\n",
      " - 21s - loss: 0.1417 - categorical_accuracy: 0.9408\n",
      "Epoch 40/50\n",
      " - 21s - loss: 0.1401 - categorical_accuracy: 0.9429\n",
      "Epoch 41/50\n",
      " - 21s - loss: 0.1365 - categorical_accuracy: 0.9454\n",
      "Epoch 42/50\n",
      " - 21s - loss: 0.1389 - categorical_accuracy: 0.9440\n",
      "Epoch 43/50\n",
      " - 21s - loss: 0.1371 - categorical_accuracy: 0.9435\n",
      "Epoch 44/50\n",
      " - 21s - loss: 0.1337 - categorical_accuracy: 0.9449\n",
      "Epoch 45/50\n",
      " - 21s - loss: 0.1329 - categorical_accuracy: 0.9466\n",
      "Epoch 46/50\n",
      " - 21s - loss: 0.1362 - categorical_accuracy: 0.9444\n",
      "Epoch 47/50\n",
      " - 21s - loss: 0.1365 - categorical_accuracy: 0.9424\n",
      "Epoch 48/50\n",
      " - 21s - loss: 0.1294 - categorical_accuracy: 0.9474\n",
      "Epoch 49/50\n",
      " - 21s - loss: 0.1316 - categorical_accuracy: 0.9459\n",
      "Epoch 50/50\n",
      " - 21s - loss: 0.1272 - categorical_accuracy: 0.9464\n"
     ]
    },
    {
     "data": {
      "text/plain": [
       "<keras.callbacks.History at 0x7f7c32b17780>"
      ]
     },
     "execution_count": 17,
     "metadata": {},
     "output_type": "execute_result"
    }
   ],
   "source": [
    "# Train LSTM model\n",
    "n_timesteps = len(trainsub['date'].unique())\n",
    "n_features = len(trainsub['feature'].unique())\n",
    "\n",
    "model = Sequential()\n",
    "model.add(LSTM(32, activation='relu', return_sequences=True, input_shape=(n_timesteps, n_features)))\n",
    "model.add(LSTM(32, activation='relu', return_sequences=True))\n",
    "model.add(LSTM(32, activation='relu', return_sequences=True))\n",
    "model.add(LSTM(32, activation='relu', return_sequences=True))\n",
    "model.add(LSTM(32))\n",
    "model.add(Dense(activation='softmax', units=y.shape[1]))\n",
    "model.compile(loss='categorical_crossentropy', optimizer='adam', metrics=['categorical_accuracy'])\n",
    "model.fit(x_train_norm, y_train, epochs=50, batch_size=32, verbose=2)"
   ]
  },
  {
   "cell_type": "code",
   "execution_count": 18,
   "metadata": {},
   "outputs": [
    {
     "name": "stdout",
     "output_type": "stream",
     "text": [
      "7191/7191 [==============================] - 2s 215us/step\n"
     ]
    },
    {
     "data": {
      "text/plain": [
       "0.9413155333055208"
      ]
     },
     "execution_count": 18,
     "metadata": {},
     "output_type": "execute_result"
    }
   ],
   "source": [
    "# Model accuracy\n",
    "_, accuracy = model.evaluate(x_test_norm, y_test, batch_size=32)\n",
    "accuracy"
   ]
  },
  {
   "cell_type": "code",
   "execution_count": 19,
   "metadata": {},
   "outputs": [
    {
     "data": {
      "text/html": [
       "<div>\n",
       "<style scoped>\n",
       "    .dataframe tbody tr th:only-of-type {\n",
       "        vertical-align: middle;\n",
       "    }\n",
       "\n",
       "    .dataframe tbody tr th {\n",
       "        vertical-align: top;\n",
       "    }\n",
       "\n",
       "    .dataframe thead th {\n",
       "        text-align: right;\n",
       "    }\n",
       "</style>\n",
       "<table border=\"1\" class=\"dataframe\">\n",
       "  <thead>\n",
       "    <tr style=\"text-align: right;\">\n",
       "      <th></th>\n",
       "      <th>0</th>\n",
       "      <th>1</th>\n",
       "      <th>2</th>\n",
       "      <th>3</th>\n",
       "      <th>4</th>\n",
       "      <th>urban</th>\n",
       "      <th>veg</th>\n",
       "      <th>water</th>\n",
       "      <th>recall</th>\n",
       "    </tr>\n",
       "  </thead>\n",
       "  <tbody>\n",
       "    <tr>\n",
       "      <th>0</th>\n",
       "      <td>377</td>\n",
       "      <td>33</td>\n",
       "      <td>3</td>\n",
       "      <td>1</td>\n",
       "      <td>0</td>\n",
       "      <td>6</td>\n",
       "      <td>2</td>\n",
       "      <td>0</td>\n",
       "      <td>0.893365</td>\n",
       "    </tr>\n",
       "    <tr>\n",
       "      <th>1</th>\n",
       "      <td>72</td>\n",
       "      <td>325</td>\n",
       "      <td>16</td>\n",
       "      <td>6</td>\n",
       "      <td>10</td>\n",
       "      <td>0</td>\n",
       "      <td>2</td>\n",
       "      <td>0</td>\n",
       "      <td>0.754060</td>\n",
       "    </tr>\n",
       "    <tr>\n",
       "      <th>2</th>\n",
       "      <td>18</td>\n",
       "      <td>25</td>\n",
       "      <td>453</td>\n",
       "      <td>1</td>\n",
       "      <td>63</td>\n",
       "      <td>1</td>\n",
       "      <td>2</td>\n",
       "      <td>0</td>\n",
       "      <td>0.804618</td>\n",
       "    </tr>\n",
       "    <tr>\n",
       "      <th>3</th>\n",
       "      <td>5</td>\n",
       "      <td>8</td>\n",
       "      <td>1</td>\n",
       "      <td>57</td>\n",
       "      <td>0</td>\n",
       "      <td>0</td>\n",
       "      <td>0</td>\n",
       "      <td>0</td>\n",
       "      <td>0.802817</td>\n",
       "    </tr>\n",
       "    <tr>\n",
       "      <th>4</th>\n",
       "      <td>11</td>\n",
       "      <td>13</td>\n",
       "      <td>101</td>\n",
       "      <td>2</td>\n",
       "      <td>350</td>\n",
       "      <td>0</td>\n",
       "      <td>12</td>\n",
       "      <td>0</td>\n",
       "      <td>0.715746</td>\n",
       "    </tr>\n",
       "    <tr>\n",
       "      <th>urban</th>\n",
       "      <td>7</td>\n",
       "      <td>3</td>\n",
       "      <td>0</td>\n",
       "      <td>0</td>\n",
       "      <td>0</td>\n",
       "      <td>1179</td>\n",
       "      <td>1</td>\n",
       "      <td>0</td>\n",
       "      <td>0.990756</td>\n",
       "    </tr>\n",
       "    <tr>\n",
       "      <th>veg</th>\n",
       "      <td>5</td>\n",
       "      <td>2</td>\n",
       "      <td>1</td>\n",
       "      <td>0</td>\n",
       "      <td>8</td>\n",
       "      <td>1</td>\n",
       "      <td>1985</td>\n",
       "      <td>0</td>\n",
       "      <td>0.991508</td>\n",
       "    </tr>\n",
       "    <tr>\n",
       "      <th>water</th>\n",
       "      <td>0</td>\n",
       "      <td>0</td>\n",
       "      <td>0</td>\n",
       "      <td>0</td>\n",
       "      <td>0</td>\n",
       "      <td>0</td>\n",
       "      <td>0</td>\n",
       "      <td>2023</td>\n",
       "      <td>1.000000</td>\n",
       "    </tr>\n",
       "  </tbody>\n",
       "</table>\n",
       "</div>"
      ],
      "text/plain": [
       "         0    1    2   3    4  urban   veg  water    recall\n",
       "0      377   33    3   1    0      6     2      0  0.893365\n",
       "1       72  325   16   6   10      0     2      0  0.754060\n",
       "2       18   25  453   1   63      1     2      0  0.804618\n",
       "3        5    8    1  57    0      0     0      0  0.802817\n",
       "4       11   13  101   2  350      0    12      0  0.715746\n",
       "urban    7    3    0   0    0   1179     1      0  0.990756\n",
       "veg      5    2    1   0    8      1  1985      0  0.991508\n",
       "water    0    0    0   0    0      0     0   2023  1.000000"
      ]
     },
     "execution_count": 19,
     "metadata": {},
     "output_type": "execute_result"
    }
   ],
   "source": [
    "# Confusion matrix\n",
    "tstrain.conf_mat(x_test_norm, y_test, model, class_codes)"
   ]
  },
  {
   "cell_type": "code",
   "execution_count": 20,
   "metadata": {},
   "outputs": [],
   "source": [
    "# serialize model to JSON\n",
    "model_json = model.to_json()\n",
    "with open(\"/home/ec2-user/model_improved.json\", \"w\") as json_file:\n",
    "    json_file.write(model_json)"
   ]
  },
  {
   "cell_type": "code",
   "execution_count": 21,
   "metadata": {},
   "outputs": [
    {
     "name": "stdout",
     "output_type": "stream",
     "text": [
      "Saved model to disk\n"
     ]
    }
   ],
   "source": [
    "# serialize weights to HDF5\n",
    "model.save_weights(\"/home/ec2-user/model.h5\")\n",
    "print(\"Saved model to disk\")"
   ]
  },
  {
   "cell_type": "code",
   "execution_count": 22,
   "metadata": {
    "scrolled": true
   },
   "outputs": [
    {
     "name": "stderr",
     "output_type": "stream",
     "text": [
      "/home/ec2-user/anaconda3/lib/python3.6/site-packages/matplotlib/cbook/deprecation.py:107: MatplotlibDeprecationWarning: Adding an axes using the same arguments as a previous axes currently reuses the earlier instance.  In a future version, a new instance will always be created and returned.  Meanwhile, this warning can be suppressed, and the future behavior ensured, by passing a unique label to each axes instance.\n",
      "  warnings.warn(message, mplDeprecation, stacklevel=1)\n"
     ]
    },
    {
     "data": {
      "image/png": "[encoded data removed]",
      "text/plain": [
       "<Figure size 720x576 with 1 Axes>"
      ]
     },
     "metadata": {},
     "output_type": "display_data"
    }
   ],
   "source": [
    "cropclusts = clust5.rename(columns={'label': 'cluster'})\n",
    "tsclust.plot_clusters(cropclusts, fill=False)"
   ]
  },
  {
   "cell_type": "code",
   "execution_count": null,
   "metadata": {},
   "outputs": [],
   "source": []
  }
 ],
 "metadata": {
  "kernelspec": {
   "display_name": "Python 3",
   "language": "python",
   "name": "python3"
  },
  "language_info": {
   "codemirror_mode": {
    "name": "ipython",
    "version": 3
   },
   "file_extension": ".py",
   "mimetype": "text/x-python",
   "name": "python",
   "nbconvert_exporter": "python",
   "pygments_lexer": "ipython3",
   "version": "3.6.5"
  }
 },
 "nbformat": 4,
 "nbformat_minor": 2
}
